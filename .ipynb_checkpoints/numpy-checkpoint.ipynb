{
 "cells": [
  {
   "cell_type": "markdown",
   "metadata": {},
   "source": [
    "# NumPy is a Python library used for working with arrays."
   ]
  },
  {
   "cell_type": "code",
   "execution_count": 2,
   "metadata": {},
   "outputs": [],
   "source": [
    "import numpy as np"
   ]
  },
  {
   "cell_type": "code",
   "execution_count": 3,
   "metadata": {},
   "outputs": [
    {
     "name": "stdout",
     "output_type": "stream",
     "text": [
      "[2 4 5 9 8 3]\n"
     ]
    }
   ],
   "source": [
    "num = [2, 4, 5, 9, 8,3]\n",
    "arr = np.array(num)                 #this method converts a list in an array\n",
    "\n",
    "print(arr)"
   ]
  },
  {
   "cell_type": "code",
   "execution_count": 4,
   "metadata": {},
   "outputs": [
    {
     "name": "stdout",
     "output_type": "stream",
     "text": [
      "int64\n"
     ]
    }
   ],
   "source": [
    "print(arr.dtype)                   # this method returns the data type of an array"
   ]
  },
  {
   "cell_type": "code",
   "execution_count": 6,
   "metadata": {},
   "outputs": [
    {
     "name": "stdout",
     "output_type": "stream",
     "text": [
      "[6 2 9 5 4]\n",
      "int32\n"
     ]
    }
   ],
   "source": [
    "N = [6.5, 2.8, 9.0, 5.6, 4.3]\n",
    "arr = np.array(N)\n",
    "newarr = arr.astype('i')           #this method change one data type to another\n",
    "\n",
    "print(newarr)\n",
    "print(newarr.dtype)"
   ]
  },
  {
   "cell_type": "code",
   "execution_count": 7,
   "metadata": {},
   "outputs": [
    {
     "name": "stdout",
     "output_type": "stream",
     "text": [
      "[5, 10, 8, 3, 4, 1]\n",
      "[5, 7, 8, 3, 4, 1]\n"
     ]
    }
   ],
   "source": [
    "n = [5, 7, 8, 3, 4, 1]\n",
    "C = n.copy()                       #this method make a copy of an array and can change copied data\n",
    "n[1] = 10\n",
    "\n",
    "print(n)\n",
    "print(C)"
   ]
  },
  {
   "cell_type": "code",
   "execution_count": 9,
   "metadata": {},
   "outputs": [
    {
     "name": "stdout",
     "output_type": "stream",
     "text": [
      "[ 5 20  8  3  4  1]\n",
      "[ 5 20  8  3  4  1]\n"
     ]
    }
   ],
   "source": [
    "n = np.array([5, 7, 8, 3, 4, 1])\n",
    "C = n.view()                       #this method make a view of an array and can change the original data\n",
    "n[1] = 20\n",
    "\n",
    "print(n)\n",
    "print(C)"
   ]
  },
  {
   "cell_type": "code",
   "execution_count": 10,
   "metadata": {},
   "outputs": [
    {
     "name": "stdout",
     "output_type": "stream",
     "text": [
      "(2, 4)\n"
     ]
    }
   ],
   "source": [
    "arr = np.array([[1, 2, 3, 4], [5, 6, 7, 8]])\n",
    "\n",
    "print(arr.shape)                    #this attribute returns the shape of an array in numerical value\n"
   ]
  },
  {
   "cell_type": "code",
   "execution_count": 11,
   "metadata": {},
   "outputs": [
    {
     "name": "stdout",
     "output_type": "stream",
     "text": [
      "Reshaping 1-D array to 2-D array:  [[ 1  2  3]\n",
      " [ 4  5  6]\n",
      " [ 7  8  9]\n",
      " [10 11 12]]\n",
      "Reshaping 1-D array to 3-D array:  [[[ 1  2]\n",
      "  [ 3  4]\n",
      "  [ 5  6]]\n",
      "\n",
      " [[ 7  8]\n",
      "  [ 9 10]\n",
      "  [11 12]]]\n"
     ]
    }
   ],
   "source": [
    "arr = np.array([1, 2, 3, 4, 5, 6, 7, 8, 9, 10, 11, 12])\n",
    "newarr1 = arr.reshape(4, 3)           #this method reshape the array from 1-D to 2-D \n",
    "newarr2 = arr.reshape(2,3,2)          #this method reshape the array from 1-D to 3-D\n",
    "\n",
    "print(\"Reshaping 1-D array to 2-D array: \",newarr1)\n",
    "print(\"Reshaping 1-D array to 3-D array: \",newarr2)\n"
   ]
  }
 ],
 "metadata": {
  "kernelspec": {
   "display_name": "Python 3",
   "language": "python",
   "name": "python3"
  },
  "language_info": {
   "codemirror_mode": {
    "name": "ipython",
    "version": 3
   },
   "file_extension": ".py",
   "mimetype": "text/x-python",
   "name": "python",
   "nbconvert_exporter": "python",
   "pygments_lexer": "ipython3",
   "version": "3.8.5"
  }
 },
 "nbformat": 4,
 "nbformat_minor": 4
}
